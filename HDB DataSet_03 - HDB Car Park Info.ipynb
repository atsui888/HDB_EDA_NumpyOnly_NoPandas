{
 "cells": [
  {
   "cell_type": "markdown",
   "metadata": {},
   "source": [
    "# HDB Dataset no. 3: HDB Car Park Info"
   ]
  },
  {
   "cell_type": "markdown",
   "metadata": {},
   "source": [
    "## 0. setup"
   ]
  },
  {
   "cell_type": "code",
   "execution_count": 1,
   "metadata": {},
   "outputs": [],
   "source": [
    "# Packages used\n",
    "import os\n",
    "import numpy as np\n",
    "import matplotlib.pyplot as plt\n"
   ]
  },
  {
   "cell_type": "code",
   "execution_count": 2,
   "metadata": {},
   "outputs": [],
   "source": [
    "# Numpy Dtypes\n",
    "# ===========\n",
    "# https://www.numpy.org/devdocs/user/basics.types.html\n",
    "\n",
    "#   a) b1, i1, i2, i4, i8, u1, u2, u4, u8, f2, f4, f8, c8, c16, a<n>\n",
    "#   (representing bytes, ints, unsigned ints, floats, complex and\n",
    "#    fixed length strings of specified BYTE lengths)\n",
    "\n",
    "#   b) int8,...,uint8,...,float16, float32, float64, complex64, complex128\n",
    "#   (this time with BIT sizes)\n",
    "\n",
    "#c) for strings: str,size # if size !specified, default is 0 len\n",
    "#   or np.unicode, size\n"
   ]
  },
  {
   "cell_type": "markdown",
   "metadata": {},
   "source": [
    "# Functions"
   ]
  },
  {
   "cell_type": "code",
   "execution_count": 3,
   "metadata": {},
   "outputs": [],
   "source": [
    "def isNumeric(obj):\n",
    "    try:\n",
    "        obj + 0 #  chk if object capable of doing math operations, e.g. + 0 \n",
    "        return True\n",
    "    except TypeError:\n",
    "        return False\n",
    "\n",
    "def getMode(modeDict):\n",
    "    '''\n",
    "    Input Parameter:\n",
    "       modeDict -> a dictionary containing key (categories) and values (frequency count)\n",
    "       \n",
    "    Returns:\n",
    "       . a tuple containing\n",
    "       ... a list containing >=1 keys (categories)\n",
    "       ... a var containing a value (the frequency count of the key/s)\n",
    "       ...... this frequency count is the same for all keys, if > key\n",
    "       ...... because single or multi-mode, all have the same freq count\n",
    "       \n",
    "       Mode -\n",
    "       . if all numbers have same frequency, there is NO mode\n",
    "       . if sum(modeDict values) == len(modeDict), there is no mode     \n",
    "       . there can be more than one mode - i.e. multimode\n",
    "\n",
    "    '''\n",
    "    \n",
    "    lModeK = []\n",
    "    modeV = 0\n",
    "    \n",
    "    if len(modeDict) == 0: print('modeDict must have at least One entry!'); return (lModeK, modeV)    \n",
    "    \n",
    "    for k,v in modeDict.items():\n",
    "        if len(modeDict) > 1:\n",
    "            if v > modeV:\n",
    "                # remove existing mode/s\n",
    "                lModeK.clear()                \n",
    "                # input the new mode\n",
    "                lModeK.append(k)\n",
    "                modeV = v\n",
    "            elif v == modeV:\n",
    "                lModeK.append(k)\n",
    "            # if v < modeV, do nothing, the existing mode/s are still the same\n",
    "        else:\n",
    "            lModeK.append(k)\n",
    "            modeV = v\n",
    "    \n",
    "    return (lModeK, modeV)    \n",
    "    "
   ]
  },
  {
   "cell_type": "markdown",
   "metadata": {},
   "source": [
    "##  1. Load Dataset\n",
    "https://docs.scipy.org/doc/numpy/user/basics.rec.html\n",
    "\n",
    ". genfromtxt() creates a structured/field numpy array"
   ]
  },
  {
   "cell_type": "code",
   "execution_count": 4,
   "metadata": {},
   "outputs": [],
   "source": [
    "filePath = 'Data\\HDB Car Park Info'\n",
    "fileName = 'hdbCarparkInformation.csv'\n",
    "filePathName = os.path.join(filePath, fileName) # this should work on both windows and linux\n",
    "\n",
    "# In order to load properly,\n",
    "# some data with unnecessary \"\" were removed, about 114 occurences\n",
    "# some address had comma inside the cell, e.g. <start>BLK 213-215,218-227 BISHAN STREET 23<end>, have to do manual correction\n",
    "# chg the comma to /, 87 replacements\n",
    "\n",
    "\n",
    "# nb: A 'standard' numpy array can only have one dtype, genfromtext actually returns a structured array\n",
    "# which can hold multiple dtypes\n",
    "# https://docs.scipy.org/doc/numpy/user/basics.rec.html\n",
    "npData = np.genfromtxt(filePathName, delimiter=',',skip_header=1,\n",
    "                       dtype=[('carPark_Num',np.unicode,32),\n",
    "                              ('address', np.unicode, 128),                           \n",
    "                              ('coord_X', np.float32),\n",
    "                              ('coord_Y', np.float32),\n",
    "                              ('carPark_Type', np.unicode, 32),\n",
    "                              ('parkingSys_Type', np.unicode, 32),\n",
    "                              ('parkingTerms_ShortTerm', np.unicode, 32),\n",
    "                              ('parkingTerms_Free', np.unicode, 32),\n",
    "                              ('parkingTerms_Night', np.unicode, 32),\n",
    "                              ('carPark_Decks', np.int16),\n",
    "                              ('carPark_GantryHeight', np.float32),\n",
    "                              ('carPark_Basement', np.unicode, 32)],\n",
    "                       missing_values=['na','-'], filling_values=0, autostrip=True )\n"
   ]
  },
  {
   "cell_type": "code",
   "execution_count": 5,
   "metadata": {},
   "outputs": [
    {
     "name": "stdout",
     "output_type": "stream",
     "text": [
      "type(npData) is <class 'numpy.ndarray'>:\n",
      "npData.shape is (2100,):\n",
      "\n",
      "Peek at first 5 records to see if anything wrong...\n",
      "('ACB', 'BLK 270/271 ALBERT CENTRE BASEMENT CAR PARK', 30314.793, 31490.494, 'BASEMENT CAR PARK', 'ELECTRONIC PARKING', 'WHOLE DAY', 'NO', 'YES', 1, 1.8, 'Y')\n",
      "('ACM', 'BLK 98A ALJUNIED CRESCENT', 33758.414, 33695.52, 'MULTI-STOREY CAR PARK', 'ELECTRONIC PARKING', 'WHOLE DAY', 'SUN & PH FR 7AM-10.30PM', 'YES', 5, 2.1, 'N')\n",
      "('AH1', 'BLK 101 JALAN DUSUN', 29257.72, 34500.36, 'SURFACE CAR PARK', 'ELECTRONIC PARKING', 'WHOLE DAY', 'SUN & PH FR 7AM-10.30PM', 'YES', 0, 0., 'N')\n",
      "('AK19', 'BLOCK 253 ANG MO KIO STREET 21', 28185.436, 39012.668, 'SURFACE CAR PARK', 'COUPON PARKING', '7AM-7PM', 'NO', 'NO', 0, 0., 'N')\n",
      "('AK31', 'BLK 302/348 ANG MO KIO ST 31', 29482.03, 38684.176, 'SURFACE CAR PARK', 'COUPON PARKING', 'NO', 'NO', 'NO', 0, 0., 'N')\n",
      "\n",
      "Inspect 5 random records...\n",
      "('BL10', 'BLK 188/191 BOON LAY DRIVE', 14434.581, 36212.21, 'SURFACE CAR PARK', 'ELECTRONIC PARKING', 'WHOLE DAY', 'SUN & PH FR 7AM-10.30PM', 'YES', 0, 9.99, 'N')\n",
      "('TPMP', 'BLK 138 LORONG 1A TOA PAYOH', 29277.912, 35429.26, 'MULTI-STOREY CAR PARK', 'ELECTRONIC PARKING', '7AM-10.30PM', 'NO', 'NO', 13, 2.15, 'N')\n",
      "('TM49', 'BLK 494F TAMPINES ST 43', 41321.77, 38447.8, 'MULTI-STOREY CAR PARK', 'ELECTRONIC PARKING', 'WHOLE DAY', 'SUN & PH FR 7AM-10.30PM', 'YES', 12, 2.15, 'N')\n",
      "('H6', 'BLK 77/79 GANGES AVENUE', 27517.553, 30418.615, 'SURFACE CAR PARK', 'ELECTRONIC PARKING', 'WHOLE DAY', 'SUN & PH FR 7AM-10.30PM', 'YES', 0, 0., 'N')\n",
      "('TM36', 'BLK 515 TAMPINES CTRL 7', 39769.29, 37693.96, 'MULTI-STOREY CAR PARK', 'ELECTRONIC PARKING', 'WHOLE DAY', 'NO', 'YES', 4, 2.15, 'N')\n",
      "\n",
      "Peek at last 5 records to see if anything wrong...\n",
      "('Y74M', 'BLOCK 673 YISHUN AVENUE 4', 28931.645, 44600.742, 'MULTI-STOREY CAR PARK', 'COUPON PARKING', 'WHOLE DAY', 'NO', 'YES', 14, 2.15, 'N')\n",
      "('Y75M', 'BLOCK 674 YISHUN AVENUE 4', 29086.7, 44661.41, 'MULTI-STOREY CAR PARK', 'COUPON PARKING', 'WHOLE DAY', 'NO', 'YES', 13, 2.15, 'N')\n",
      "('Y76M', 'BLOCK 676 YISHUN RING ROAD', 28940.473, 44825.89, 'MULTI-STOREY CAR PARK', 'COUPON PARKING', 'WHOLE DAY', 'NO', 'YES', 14, 2.15, 'N')\n",
      "('Y8', 'BLK 731/746 YISHUN STREET 71/72/AVENUE 5', 27772.922, 45686.273, 'SURFACE CAR PARK', 'ELECTRONIC PARKING', 'WHOLE DAY', 'SUN & PH FR 7AM-10.30PM', 'YES', 0, 4.5, 'N')\n",
      "('Y9', 'BLK 747/752 YISHUN STREET 72', 28077.23, 45507.805, 'SURFACE CAR PARK', 'ELECTRONIC PARKING', 'WHOLE DAY', 'SUN & PH FR 7AM-10.30PM', 'YES', 0, 4.5, 'N')\n"
     ]
    }
   ],
   "source": [
    "# Inspect the loaded file \n",
    "\n",
    "print('type(npData) is {}:'.format(type(npData)))\n",
    "print('npData.shape is {}:'.format(npData.shape))\n",
    "\n",
    "print('\\nPeek at first 5 records to see if anything wrong...')\n",
    "for i in range(5):\n",
    "    print(npData[i])\n",
    "\n",
    "# chk 5 random records\n",
    "# numpy.random.randint(low, high=None, size=None, dtype='l')\n",
    "print('\\nInspect 5 random records...')\n",
    "for i in range(5):\n",
    "    print(npData[np.random.randint(6,len(npData))])\n",
    "   \n",
    "print('\\nPeek at last 5 records to see if anything wrong...')\n",
    "for i in range(-5,0): # same as reversed(range(-1,-6,-1))\n",
    "    print(npData[i])\n",
    "\n"
   ]
  },
  {
   "cell_type": "markdown",
   "metadata": {},
   "source": [
    "## 2. Preprocessing - Clean / Transform"
   ]
  },
  {
   "cell_type": "code",
   "execution_count": 6,
   "metadata": {
    "scrolled": true
   },
   "outputs": [
    {
     "name": "stdout",
     "output_type": "stream",
     "text": [
      "Column \"carPark_Num\": \t\tBlank found == False\n",
      "Column \"address\": \t\tBlank found == False\n",
      "Column \"coord_X\": \t\tBlank found == False\n",
      "Column \"coord_Y\": \t\tBlank found == False\n",
      "Column \"carPark_Type\": \t\tBlank found == False\n",
      "Column \"parkingSys_Type\": \t\tBlank found == False\n",
      "Column \"parkingTerms_ShortTerm\": \t\tBlank found == False\n",
      "Column \"parkingTerms_Free\": \t\tBlank found == False\n",
      "Column \"parkingTerms_Night\": \t\tBlank found == False\n",
      "Column \"carPark_Decks\": \tNo NaN found\n",
      "Column \"carPark_GantryHeight\": \t\tBlank found == False\n",
      "Column \"carPark_Basement\": \t\tBlank found == False\n"
     ]
    }
   ],
   "source": [
    "# info:\n",
    "# ======================\n",
    "# https://towardsdatascience.com/data-preprocessing-for-non-techies-feature-exploration-and-engineering-f1081438a5de\n",
    "# https://hackernoon.com/what-steps-should-one-take-while-doing-data-preprocessing-502c993e1caa\n",
    "# https://www.kdnuggets.com/2017/06/7-steps-mastering-data-preparation-python.html\n",
    "# https://scikit-learn.org/stable/modules/preprocessing.html\n",
    "# ======================\n",
    "\n",
    "# check if there are missing values\n",
    "for field in npData.dtype.names:\n",
    "    if str(npData[field][0]).isnumeric():        \n",
    "        if True in np.isnan(npData[field]):\n",
    "            print('Column \"{}\": \\tNaN is found!'.format(field))    \n",
    "        else:\n",
    "            print('Column \"{}\": \\tNo NaN found'.format(field))    \n",
    "        # https://docs.scipy.org/doc/numpy/reference/generated/numpy.isnan.html\n",
    "        # np.isnan returns results in an array. In future, use this to show location of NaN\n",
    "        # and create a simple tKinter or pyQT utility to interactively 'fix' NaNs or blanks etc\n",
    "    else:\n",
    "        blankFound = False\n",
    "        for idx in range(len(npData[field])):\n",
    "            if npData[field][idx] == '':\n",
    "                print('Blank is found')\n",
    "                blankFound = True\n",
    "        print('Column \"{}\": \\t\\tBlank found == {}'.format(field, blankFound))\n",
    "            \n",
    "       \n",
    "\n"
   ]
  },
  {
   "cell_type": "markdown",
   "metadata": {},
   "source": [
    "## 3. Exploratory Data Analysis\n",
    "https://docs.scipy.org/doc/numpy-1.15.1/reference/routines.statistics.html\n",
    "\n",
    "npData ->\n",
    "dtype=[('quarter',np.unicode,16),('town',np.unicode,16),\n",
    "                             ('flatType',np.unicode,16),('price',np.float32)], "
   ]
  },
  {
   "cell_type": "code",
   "execution_count": 7,
   "metadata": {
    "scrolled": true
   },
   "outputs": [
    {
     "name": "stdout",
     "output_type": "stream",
     "text": [
      "There are 2100 rows and 12 columns in this dataset\n",
      "\n",
      "The names of the columns are:\n",
      "- carPark_Num <class 'numpy.str_'> \tisnumeric: False\n",
      "- address    <class 'numpy.str_'> \tisnumeric: False\n",
      "- coord_X    <class 'numpy.float32'> \tisnumeric: True\n",
      "- coord_Y    <class 'numpy.float32'> \tisnumeric: True\n",
      "- carPark_Type <class 'numpy.str_'> \tisnumeric: False\n",
      "- parkingSys_Type <class 'numpy.str_'> \tisnumeric: False\n",
      "- parkingTerms_ShortTerm <class 'numpy.str_'> \tisnumeric: False\n",
      "- parkingTerms_Free <class 'numpy.str_'> \tisnumeric: False\n",
      "- parkingTerms_Night <class 'numpy.str_'> \tisnumeric: False\n",
      "- carPark_Decks <class 'numpy.int16'> \tisnumeric: True\n",
      "- carPark_GantryHeight <class 'numpy.float32'> \tisnumeric: True\n",
      "- carPark_Basement <class 'numpy.str_'> \tisnumeric: False\n",
      "\n",
      "2100   unique values in carPark_Num column\n",
      "2094   unique values in address   column\n",
      "2100   unique values in coord_X   column\n",
      "2100   unique values in coord_Y   column\n",
      "7      unique values in carPark_Type column\n",
      "2      unique values in parkingSys_Type column\n",
      "4      unique values in parkingTerms_ShortTerm column\n",
      "3      unique values in parkingTerms_Free column\n",
      "2      unique values in parkingTerms_Night column\n",
      "20     unique values in carPark_Decks column\n",
      "34     unique values in carPark_GantryHeight column\n",
      "2      unique values in carPark_Basement column\n"
     ]
    }
   ],
   "source": [
    "print('There are {} rows and {} columns in this dataset'.format(len(npData),len(npData.dtype.names)))\n",
    "\n",
    "print()\n",
    "\n",
    "print('The names of the columns are:')\n",
    "for idx in range(len(npData.dtype.names)):\n",
    "    print(\"- {:<10s} {} \\tisnumeric: {}\".format(npData.dtype.names[idx],type(npData[0][idx]),isNumeric(npData[0][idx])))\n",
    "\n",
    "print()\n",
    "    \n",
    "for idx in range(len(npData.dtype.names)):    \n",
    "    print('{:<6} unique values in {:<9s} column'.format(len(np.unique(npData[npData.dtype.names[idx]])),npData.dtype.names[idx]))    \n",
    "    \n"
   ]
  },
  {
   "cell_type": "code",
   "execution_count": 8,
   "metadata": {},
   "outputs": [
    {
     "name": "stdout",
     "output_type": "stream",
     "text": [
      "Inspection of 'unique' values for each field shows that all is in order.\n"
     ]
    }
   ],
   "source": [
    "print(\"Inspection of 'unique' values for each field shows that all is in order.\")"
   ]
  },
  {
   "cell_type": "markdown",
   "metadata": {},
   "source": [
    "### 3. Visualisation - Pie Chart\n",
    "In 2018, how many or proportion of HDB carparks in Singapore are Coupon vs Electronic?"
   ]
  },
  {
   "cell_type": "code",
   "execution_count": 9,
   "metadata": {},
   "outputs": [
    {
     "name": "stdout",
     "output_type": "stream",
     "text": [
      "2100\n"
     ]
    }
   ],
   "source": [
    "NumOfHDBCarParks = len(npData)\n",
    "print(NumOfHDBCarParks)"
   ]
  },
  {
   "cell_type": "code",
   "execution_count": 10,
   "metadata": {},
   "outputs": [
    {
     "data": {
      "text/plain": [
       "Text(-0.9,-1.33,'been converted from Coupon to Electronic.')"
      ]
     },
     "execution_count": 10,
     "metadata": {},
     "output_type": "execute_result"
    },
    {
     "data": {
      "image/png": "[encoded data removed]",
      "text/plain": [
       "<Figure size 576x576 with 1 Axes>"
      ]
     },
     "metadata": {},
     "output_type": "display_data"
    }
   ],
   "source": [
    "# ****** Data\n",
    "NumOfHDBCarParks = len(npData)\n",
    "labels = [item for item in np.unique(npData['parkingSys_Type']) ]\n",
    "pieData = [ len(npData[npData['parkingSys_Type']== item]) for item in labels]\n",
    "explode = (0.1, 0) # Explode 2nd\n",
    "\n",
    "# ****** Plot Customisation\n",
    "# Slices are ordered, anti-clockwise\n",
    "\n",
    "fig1, ax1 = plt.subplots()\n",
    "fig1.set_figheight(8)\n",
    "fig1.set_figwidth(8)\n",
    "fig1.suptitle('2018 - SG HDB carparks Coupon vs Electronic', fontsize=14, fontweight='bold')\n",
    "\n",
    "\n",
    "\n",
    "#ax1.set_title('Coupon vs Electronic')\n",
    "ax1.pie(pieData, explode=explode, labels=labels, autopct='%1.1f%%',shadow=True, startangle=90)\n",
    "ax1.text(-0.37,0.53, pieData[0], fontsize=10)\n",
    "ax1.text(0.15,-0.48, '{:,}'.format(pieData[1]), fontsize=10)\n",
    "ax1.text(0.9,0.75,'Total Car Parks ={:,}'.format(NumOfHDBCarParks),\n",
    "        bbox={'facecolor':'red', 'alpha':0.5, 'pad':10})\n",
    "ax1.text(-0.9,-1.25,'Approximatley 87% of 2,100 HDB car parks in Singapore have already',fontsize=10)\n",
    "ax1.text(-0.9,-1.33,'been converted from Coupon to Electronic.',fontsize=10)\n"
   ]
  },
  {
   "cell_type": "markdown",
   "metadata": {},
   "source": [
    "# Future - querying Data.Gov.SG in real-time\n",
    "Not part of CA1 submission.\n",
    "This is a note to myself for future expansion\n",
    "Q: for real-time is it better to use Javascript/JSON or Python??"
   ]
  },
  {
   "cell_type": "code",
   "execution_count": 11,
   "metadata": {},
   "outputs": [
    {
     "name": "stdout",
     "output_type": "stream",
     "text": [
      "b'{\"help\": \"https://data.gov.sg/api/3/action/help_show?name=datastore_search\", \"success\": true, \"result\": {\"resource_id\": \"139a3035-e624-4f56-b63f-89ae28d4ae4c\", \"fields\": [{\"type\": \"int4\", \"id\": \"_id\"}, {\"type\": \"text\", \"id\": \"car_park_no\"}, {\"type\": \"text\", \"id\": \"address\"}, {\"type\": \"numeric\", \"id\": \"x_coord\"}, {\"type\": \"numeric\", \"id\": \"y_coord\"}, {\"type\": \"text\", \"id\": \"car_park_type\"}, {\"type\": \"text\", \"id\": \"type_of_parking_system\"}, {\"type\": \"text\", \"id\": \"short_term_parking\"}, {\"type\": \"text\", \"id\": \"free_parking\"}, {\"type\": \"text\", \"id\": \"night_parking\"}, {\"type\": \"numeric\", \"id\": \"car_park_decks\"}, {\"type\": \"numeric\", \"id\": \"gantry_height\"}, {\"type\": \"text\", \"id\": \"car_park_basement\"}], \"records\": [{\"short_term_parking\": \"WHOLE DAY\", \"car_park_type\": \"MULTI-STOREY CAR PARK\", \"y_coord\": \"29932.9795\", \"x_coord\": \"26179.0760\", \"free_parking\": \"SUN & PH FR 7AM-10.30PM\", \"gantry_height\": \"2.15\", \"car_park_basement\": \"N\", \"night_parking\": \"YES\", \"address\": \"BLK 70A REDHILL CLOSE\", \"car_park_decks\": \"12\", \"_id\": 1, \"car_park_no\": \"RHM2\", \"type_of_parking_system\": \"ELECTRONIC PARKING\"}, {\"short_term_parking\": \"WHOLE DAY\", \"car_park_type\": \"MULTI-STOREY CAR PARK\", \"y_coord\": \"30036.7081\", \"x_coord\": \"26214.2901\", \"free_parking\": \"SUN & PH FR 7AM-10.30PM\", \"gantry_height\": \"2.15\", \"car_park_basement\": \"N\", \"night_parking\": \"YES\", \"address\": \"BLK 73 REDHILL RD\", \"car_park_decks\": \"17\", \"_id\": 2, \"car_park_no\": \"RHM3\", \"type_of_parking_system\": \"ELECTRONIC PARKING\"}, {\"short_term_parking\": \"WHOLE DAY\", \"car_park_type\": \"MULTI-STOREY CAR PARK\", \"y_coord\": \"30041.4132\", \"x_coord\": \"26049.5082\", \"free_parking\": \"SUN & PH FR 7AM-10.30PM\", \"gantry_height\": \"2.15\", \"car_park_basement\": \"N\", \"night_parking\": \"YES\", \"address\": \"BLK 74 REDHILL RD\", \"car_park_decks\": \"12\", \"_id\": 3, \"car_park_no\": \"RHM4\", \"type_of_parking_system\": \"ELECTRONIC PARKING\"}, {\"short_term_parking\": \"WHOLE DAY\", \"car_park_type\": \"SURFACE CAR PARK\", \"y_coord\": \"30077.9357\", \"x_coord\": \"26029.8967\", \"free_parking\": \"NO\", \"gantry_height\": \"4.50\", \"car_park_basement\": \"N\", \"night_parking\": \"YES\", \"address\": \"BLK 75A/B REDHILL ROAD\", \"car_park_decks\": \"0\", \"_id\": 4, \"car_park_no\": \"RHS\", \"type_of_parking_system\": \"ELECTRONIC PARKING\"}, {\"short_term_parking\": \"WHOLE DAY\", \"car_park_type\": \"MULTI-STOREY CAR PARK\", \"y_coord\": \"30550.6392\", \"x_coord\": \"25613.7877\", \"free_parking\": \"SUN & PH FR 7AM-10.30PM\", \"gantry_height\": \"2.15\", \"car_park_basement\": \"N\", \"night_parking\": \"YES\", \"address\": \"BLK 60A STRATHMORE AVENUE\", \"car_park_decks\": \"12\", \"_id\": 5, \"car_park_no\": \"SAM\", \"type_of_parking_system\": \"COUPON PARKING\"}], \"_links\": {\"start\": \"/api/action/datastore_search?limit=5&resource_id=139a3035-e624-4f56-b63f-89ae28d4ae4c\", \"next\": \"/api/action/datastore_search?offset=5&limit=5&resource_id=139a3035-e624-4f56-b63f-89ae28d4ae4c\"}, \"limit\": 5, \"total\": 850}}'\n"
     ]
    }
   ],
   "source": [
    "# for testing only: accessing data.gov.sg content\n",
    "\n",
    "import requests\n",
    "\n",
    "url = 'https://data.gov.sg/api/action/datastore_search?resource_id=139a3035-e624-4f56-b63f-89ae28d4ae4c&limit=5'\n",
    "\n",
    "mStr = requests.get(url)\n",
    "#requests.post(url) # unused - for now\n",
    "\n",
    "print(mStr.content)"
   ]
  },
  {
   "cell_type": "markdown",
   "metadata": {},
   "source": [
    "# Misc Notes"
   ]
  },
  {
   "cell_type": "markdown",
   "metadata": {},
   "source": [
    "# Sort a specific column in a Numpy Array with other columns keeping the same order with the sorted column\n",
    "\n",
    "* https://stackoverflow.com/questions/2828059/sorting-arrays-in-numpy-by-column\n",
    "\n",
    "z = z[z[:,0].argsort()]    // sort column 0 only, col 1 tags along with changes in col 0\n",
    "\n",
    "x = z[:,0]\n",
    "\n",
    "y = z[:,1]\n"
   ]
  }
 ],
 "metadata": {
  "kernelspec": {
   "display_name": "Python 3",
   "language": "python",
   "name": "python3"
  },
  "language_info": {
   "codemirror_mode": {
    "name": "ipython",
    "version": 3
   },
   "file_extension": ".py",
   "mimetype": "text/x-python",
   "name": "python",
   "nbconvert_exporter": "python",
   "pygments_lexer": "ipython3",
   "version": "3.7.3"
  }
 },
 "nbformat": 4,
 "nbformat_minor": 2
}
