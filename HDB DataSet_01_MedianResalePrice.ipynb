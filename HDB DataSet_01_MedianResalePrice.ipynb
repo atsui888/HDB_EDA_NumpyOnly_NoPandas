{
 "cells": [
  {
   "cell_type": "markdown",
   "metadata": {},
   "source": [
    "# HDB Dataset no. 1: HDB Median Resale Price\n",
    "Only numpy allowed, not allowed to use Pandas"
   ]
  },
  {
   "cell_type": "markdown",
   "metadata": {},
   "source": [
    "Title: 'HDB Resale Price Index'\n",
    "\n",
    "Description:\n",
    "  - 'Tracks the overall price movement of the public residential market.'\n",
    "  \n",
    "  - 'The index is based on quarterly average resale price by date of registration.\n",
    "    The index till 3Q2014 was computed using stratification method, while that from\n",
    "    4Q2014 onwards is computed using the stratified hedonic regression method. 1Q2009\n",
    "    is adopted as the new base period with index at 100. The index from 1Q1990 to\n",
    "    3Q2014 are rebased to the new base period at 1Q2009. Indices from'\n",
    "    \n",
    "  - '1Q1990 to 3Q2014 are re-scaled using a factor of 100 (new index in 1Q2009) /\n",
    "    138.3 (original index in 1Q2009) multiplied on the original index level to derive\n",
    "    the re-based index level for the respective quarters. Due to rounding, there could\n",
    "    be some differences in the quarterly price change compared to the RPI series before\n",
    "    re-scaling.'\n"
   ]
  },
  {
   "cell_type": "markdown",
   "metadata": {},
   "source": [
    "## 0. setup"
   ]
  },
  {
   "cell_type": "code",
   "execution_count": 2,
   "metadata": {},
   "outputs": [],
   "source": [
    "# Packages used\n",
    "import os\n",
    "import numpy as np\n",
    "import matplotlib.pyplot as plt\n"
   ]
  },
  {
   "cell_type": "code",
   "execution_count": null,
   "metadata": {},
   "outputs": [],
   "source": [
    "# Numpy Dtypes\n",
    "# ===========\n",
    "# https://www.numpy.org/devdocs/user/basics.types.html\n",
    "\n",
    "#   a) b1, i1, i2, i4, i8, u1, u2, u4, u8, f2, f4, f8, c8, c16, a<n>\n",
    "#   (representing bytes, ints, unsigned ints, floats, complex and\n",
    "#    fixed length strings of specified BYTE lengths)\n",
    "\n",
    "#   b) int8,...,uint8,...,float16, float32, float64, complex64, complex128\n",
    "#   (this time with BIT sizes)\n",
    "\n",
    "#c) for strings: str,size # if size !specified, default is 0 len\n",
    "#   or np.unicode, size\n"
   ]
  },
  {
   "cell_type": "markdown",
   "metadata": {},
   "source": [
    "# Functions"
   ]
  },
  {
   "cell_type": "code",
   "execution_count": 16,
   "metadata": {},
   "outputs": [],
   "source": [
    "def isNumeric(obj):\n",
    "    try:\n",
    "        obj + 0 #  chk if object capable of doing math operations, e.g. + 0 \n",
    "        return True\n",
    "    except TypeError:\n",
    "        return False\n",
    "\n",
    "def getMode(modeDict):\n",
    "    '''\n",
    "    Input Parameter:\n",
    "       modeDict -> a dictionary containing key (categories) and values (frequency count)\n",
    "       \n",
    "    Returns:\n",
    "       . a tuple containing\n",
    "       ... a list containing >=1 keys (categories)\n",
    "       ... a var containing a value (the frequency count of the key/s)\n",
    "       ...... this frequency count is the same for all keys, if > key\n",
    "       ...... because single or multi-mode, all have the same freq count\n",
    "       \n",
    "       Mode -\n",
    "       . if all numbers have same frequency, there is NO mode\n",
    "       . if sum(modeDict values) == len(modeDict), there is no mode     \n",
    "       . there can be more than one mode - i.e. multimode\n",
    "\n",
    "    '''\n",
    "    \n",
    "    lModeK = []\n",
    "    modeV = 0\n",
    "    \n",
    "    if len(modeDict) == 0: print('modeDict must have at least One entry!'); return (lModeK, modeV)    \n",
    "    \n",
    "    for k,v in modeDict.items():\n",
    "        if len(modeDict) > 1:\n",
    "            if v > modeV:\n",
    "                # remove existing mode/s\n",
    "                lModeK.clear()                \n",
    "                # input the new mode\n",
    "                lModeK.append(k)\n",
    "                modeV = v\n",
    "            elif v == modeV:\n",
    "                lModeK.append(k)\n",
    "            # if v < modeV, do nothing, the existing mode/s are still the same\n",
    "        else:\n",
    "            lModeK.append(k)\n",
    "            modeV = v\n",
    "    \n",
    "    return (lModeK, modeV)    \n",
    "    "
   ]
  },
  {
   "cell_type": "markdown",
   "metadata": {},
   "source": [
    "##  1. Load Dataset\n",
    "https://docs.scipy.org/doc/numpy/user/basics.rec.html\n",
    "\n",
    ". genfromtxt() creates a structured/field numpy array"
   ]
  },
  {
   "cell_type": "code",
   "execution_count": 4,
   "metadata": {},
   "outputs": [
    {
     "name": "stdout",
     "output_type": "stream",
     "text": [
      "<class 'numpy.ndarray'>\n",
      "<class 'numpy.str_'>\n",
      "<class 'numpy.str_'>\n",
      "('2007-Q2', 'Ang Mo Kio', '1-room', 0.)\n",
      "2007-Q2\n",
      "Ang Mo Kio\n",
      "\n",
      "(7176,)\n",
      "\n",
      "Peek at first 5 records to see if anything wrong...\n",
      "('2007-Q2', 'Ang Mo Kio', '1-room', 0.)\n",
      "('2007-Q2', 'Ang Mo Kio', '2-room', 0.)\n",
      "('2007-Q2', 'Ang Mo Kio', '3-room', 172000.)\n",
      "('2007-Q2', 'Ang Mo Kio', '4-room', 260000.)\n",
      "('2007-Q2', 'Ang Mo Kio', '5-room', 372000.)\n",
      "\n",
      "Inspect 5 random records...\n",
      "('2016-Q2', 'Punggol', 'Executive', 0.)\n",
      "('2010-Q2', 'Kallang/Whampoa', 'Executive', 0.)\n",
      "('2015-Q3', 'Geylang', '1-room', 0.)\n",
      "('2014-Q1', 'Bukit Merah', '2-room', 0.)\n",
      "('2016-Q3', 'Jurong West', '5-room', 460000.)\n",
      "\n",
      "Peek at last 5 records to see if anything wrong...\n",
      "('2018-Q3', 'Yishun', '2-room', 0.)\n",
      "('2018-Q3', 'Yishun', '3-room', 263000.)\n",
      "('2018-Q3', 'Yishun', '4-room', 350000.)\n",
      "('2018-Q3', 'Yishun', '5-room', 440000.)\n",
      "('2018-Q3', 'Yishun', 'Executive', 0.)\n"
     ]
    }
   ],
   "source": [
    "filePath = 'Data\\Resale_Median_Price'\n",
    "fileName = 'medianResalePrices_forRegisteredApplicationsByTownNFlatType.csv'\n",
    "filePathName = os.path.join(filePath, fileName) # this should work on both windows and linux\n",
    "\n",
    "# IF using .loadtxt, syntax as follows\n",
    "# npData = np.loadtxt(filePathName, delimiter=',',skiprows=1, \n",
    "#               dtype=[\n",
    "#                   ('quarter',np.unicode,16),\n",
    "#                   ('index',np.float16)\n",
    "#               ])\n",
    "\n",
    "# using .genfromtxt as thereis option to replace missing_values\n",
    "# https://www.numpy.org/devdocs/user/basics.io.genfromtxt.html\n",
    "# if blank or 'na' or '-', replace with numeric 0\n",
    "# nb: A 'standard' numpy array can only have one dtype, genfromtext actually returns a structured array\n",
    "# which can hold multiple dtypes\n",
    "# https://docs.scipy.org/doc/numpy/user/basics.rec.html\n",
    "\n",
    "npData = np.genfromtxt(filePathName, delimiter=',',skip_header=1,                        \n",
    "                       dtype=[('quarter',np.unicode,16),('town',np.unicode,16),\n",
    "                             ('flatType',np.unicode,16),('price',np.float32)], \n",
    "                       missing_values=['na','-'],filling_values=0, autostrip=True)\n",
    "                      \n",
    "\n",
    "print(type(npData))\n",
    "print(type(npData[0][0]))\n",
    "print(type(npData[0][1]))\n",
    "print(npData[0])\n",
    "print(npData[0][0])\n",
    "print(npData[0][1])\n",
    "print()\n",
    "print(npData.shape)\n",
    "\n",
    "# a.sort(order='y') -> sort on single field, later on, test if a.sort(order = ['x','y','z']) works\n",
    "\n",
    "print('\\nPeek at first 5 records to see if anything wrong...')\n",
    "for i in range(5):\n",
    "    print(npData[i])\n",
    "\n",
    "# chk 5 random records\n",
    "# numpy.random.randint(low, high=None, size=None, dtype='l')\n",
    "print('\\nInspect 5 random records...')\n",
    "for i in range(5):\n",
    "    print(npData[np.random.randint(6,len(npData))])\n",
    "   \n",
    "print('\\nPeek at last 5 records to see if anything wrong...')\n",
    "for i in range(-5,0): # same as reversed(range(-1,-6,-1))\n",
    "    print(npData[i])\n",
    "\n"
   ]
  },
  {
   "cell_type": "markdown",
   "metadata": {},
   "source": [
    "## 2. Preprocessing - Clean / Transform"
   ]
  },
  {
   "cell_type": "code",
   "execution_count": 5,
   "metadata": {},
   "outputs": [
    {
     "name": "stdout",
     "output_type": "stream",
     "text": [
      "In this data set 'NA' probably means that a specific type of apartment type does not exist,  \n",
      "and '-' means that there was no transaction for an existing apartment type for that time period.\n",
      "In the genloadtext() import process we transformed 'Na' and '-' to numeric 0 for easier processing.\n",
      "Because this is a known and deliberate action, there is no need to take further action\n",
      "e.g transform or average a value to replace the 0 with an estimate etc.\n",
      "\n",
      "But we need to transfer the string \"quarters\", \"town\" and \"flat_type\" to numeric so that further processing will work properly.\n",
      "\n",
      "\n",
      "Peek at first 5 records to see if anything wrong...\n",
      "('200702', 'Ang Mo Kio', '1', 0.)\n",
      "('200702', 'Ang Mo Kio', '2', 0.)\n",
      "('200702', 'Ang Mo Kio', '3', 172000.)\n",
      "('200702', 'Ang Mo Kio', '4', 260000.)\n",
      "('200702', 'Ang Mo Kio', '5', 372000.)\n"
     ]
    }
   ],
   "source": [
    "# info:\n",
    "# ======================\n",
    "# https://towardsdatascience.com/data-preprocessing-for-non-techies-feature-exploration-and-engineering-f1081438a5de\n",
    "# https://hackernoon.com/what-steps-should-one-take-while-doing-data-preprocessing-502c993e1caa\n",
    "# https://www.kdnuggets.com/2017/06/7-steps-mastering-data-preparation-python.html\n",
    "# https://scikit-learn.org/stable/modules/preprocessing.html\n",
    "# ======================\n",
    "# save the original \"quarters\"-strings for x axis labels\n",
    "#a = npData.\n",
    "\n",
    "# check if there are missing values\n",
    "print(\"In this data set 'NA' probably means that a specific type of apartment type does not exist,  \")\n",
    "print(\"and '-' means that there was no transaction for an existing apartment type for that time period.\")\n",
    "print(\"In the genloadtext() import process we transformed 'Na' and '-' to numeric 0 for easier processing.\" )\n",
    "print(\"Because this is a known and deliberate action, there is no need to take further action\")\n",
    "print(\"e.g transform or average a value to replace the 0 with an estimate etc.\")\n",
    "print('\\nBut we need to transfer the string \"quarters\", \"town\" and \"flat_type\" to numeric so that further processing will work properly.\\n')\n",
    "\n",
    "# debug - transformations from string to numeric\n",
    "#print('===========')\n",
    "#print(npData[0][2])\n",
    "#print('===========')\n",
    "\n",
    "npDataTowns = {}\n",
    "npDataFlatTypes = {'1-room': 1, '2-room': 2, '3-room': 3, '4-room': 4, '5-room': 5, 'Executive': 6}\n",
    "for i in range(len(npData)):\n",
    "    # convert col 0, 'quarter'    \n",
    "    npData[i][0] = npData[i][0][0:4] + '0' + npData[i][0][-1]\n",
    "    \n",
    "    # next, convert 'town' to numeric but save the labels in a dictionery\n",
    "    if npData[i][1].strip() not in npDataTowns:\n",
    "        npDataTowns[npData[i][1]] = len(npDataTowns) + 1\n",
    "    \n",
    "    # next, convert 'flat_type' to numeric (or look like numeric) and save labels in a dict\n",
    "    npData[i][2] = npDataFlatTypes[npData[i][2].strip()]\n",
    "    \n",
    "\n",
    "\n",
    "        \n",
    "print('\\nPeek at first 5 records to see if anything wrong...')\n",
    "for i in range(5):\n",
    "    print(npData[i])\n",
    "    \n",
    "# chk 5 random records\n",
    "# numpy.random.randint(low, high=None, size=None, dtype='l')\n",
    "#print('\\nInspect 5 random records...')\n",
    "#for i in range(5):\n",
    "#    print(npData[np.random.randint(6,len(npData))])\n",
    "\n"
   ]
  },
  {
   "cell_type": "markdown",
   "metadata": {},
   "source": [
    "## 3. Exploratory Data Analysis\n",
    "https://docs.scipy.org/doc/numpy-1.15.1/reference/routines.statistics.html\n",
    "\n",
    "npData ->\n",
    "dtype=[('quarter',np.unicode,16),('town',np.unicode,16),\n",
    "                             ('flatType',np.unicode,16),('price',np.float32)], "
   ]
  },
  {
   "cell_type": "code",
   "execution_count": 6,
   "metadata": {},
   "outputs": [
    {
     "name": "stdout",
     "output_type": "stream",
     "text": [
      "There are 7176 rows and 4 columns in this dataset\n",
      "\n",
      "The names of the columns are:\n",
      "- quarter    <class 'numpy.str_'> \tisnumeric: False\n",
      "- town       <class 'numpy.str_'> \tisnumeric: False\n",
      "- flatType   <class 'numpy.str_'> \tisnumeric: False\n",
      "- price      <class 'numpy.float32'> \tisnumeric: True\n",
      "\n",
      "46     unique values in quarter  column\n",
      "26     unique values in town     column\n",
      "6      unique values in flatType column\n",
      "1006   unique values in price    column\n"
     ]
    }
   ],
   "source": [
    "print('There are {} rows and {} columns in this dataset'.format(len(npData),len(npData.dtype.names)))\n",
    "\n",
    "print()\n",
    "\n",
    "print('The names of the columns are:')\n",
    "for idx in range(len(npData.dtype.names)):\n",
    "    print(\"- {:<10s} {} \\tisnumeric: {}\".format(npData.dtype.names[idx],type(npData[0][idx]),isNumeric(npData[0][idx])))\n",
    "\n",
    "print()\n",
    "    \n",
    "for idx in range(len(npData.dtype.names)):\n",
    "    \n",
    "    print('{:<6} unique values in {:<8s} column'.format(len(np.unique(npData[npData.dtype.names[idx]])),npData.dtype.names[idx]))\n",
    "    #pass\n",
    "    \n",
    "# N unique values in col 1\n",
    "# N unique values in col 2\n",
    "# ...\n",
    "    \n",
    "#type(npData[0][-1])         \n",
    "#print('The names/type/isNumeric of the columns are:')\n",
    "#print(npData.dtype.name.isnumeric())\n",
    "#help(numpy.dtype.name.isnumeric)\n",
    "#print(npData.dtype.names[-1])\n",
    "\n"
   ]
  },
  {
   "cell_type": "markdown",
   "metadata": {},
   "source": [
    "\n",
    "### 3a. Box Plot & Five Number Summary"
   ]
  },
  {
   "cell_type": "code",
   "execution_count": 22,
   "metadata": {},
   "outputs": [
    {
     "name": "stdout",
     "output_type": "stream",
     "text": [
      "\n",
      "Five Number Summary for all districts and all flat types from 2007 Q2 to 2017 Q3:\n",
      "=================================================================================\n",
      "Column 'price': mean   \t= $428,958.94\n",
      "Column 'price': median \t= $415,000.00\n",
      "Column 'price': min \t= $136,000.00\n",
      "Column 'price': max \t= $880,000.00\n",
      "\n",
      "Multi-Mode\n",
      "==========\n",
      "Column 'price': mode \t= $300,000.00, freq: 34\n",
      "Column 'price': mode \t= $420,000.00, freq: 34\n",
      "\n",
      "('200702', 'Ang Mo Kio', '4', 260000.)\n"
     ]
    }
   ],
   "source": [
    "# Because on import from CSV, we assume that values of 'na' and '-' means no transaction,\n",
    "# we transformed these to numeric 0, hence # first, remove the rows where 'price' == 0\n",
    "# maybe for subsequent datasets, I can transform 'na' to -1 and '-' to numeric 0\n",
    "# then I interpret this as 'na' ie -1 == not-in-use, remove it\n",
    "# and '-' == 0 == there is no transaction but this category exist,\n",
    "# but for this current dataset, I take it that 'na' == '-' == 0 means not-useful data\n",
    "data = np.zeros(len(npData))\n",
    "data = npData['price']>0\n",
    "#print(npData['price'][data])\n",
    "\n",
    "print('\\nFive Number Summary for all districts and all flat types from 2007 Q2 to 2017 Q3:')\n",
    "print('=================================================================================')\n",
    "# Mean\n",
    "print(\"Column 'price': mean   \\t= ${:10,.2f}\".format(np.mean(npData['price'][data])))\n",
    "\n",
    "# Median \n",
    "print(\"Column 'price': median \\t= ${:10,.2f}\".format(np.median(npData['price'][data])))\n",
    "\n",
    "# Min\n",
    "print(\"Column 'price': min \\t= ${:10,.2f}\".format(np.min(npData['price'][data])))\n",
    "\n",
    "# Max \n",
    "print(\"Column 'price': max \\t= ${:10,.2f}\".format(np.max(npData['price'][data])))\n",
    "\n",
    "# Mode\n",
    "modeDict = {}\n",
    "for i in range(len(npData['price'][data])):\n",
    "    if npData['price'][data][i] not in modeDict:\n",
    "        modeDict[npData['price'][data][i]] = 1\n",
    "    else:\n",
    "        modeDict[npData['price'][data][i]] += 1\n",
    "\n",
    "lModeK, modeV = getMode(modeDict)\n",
    "\n",
    "if len(lModeK) > 1:\n",
    "    print('\\nMulti-Mode')\n",
    "    print('==========')\n",
    "    lModeK.sort()\n",
    "elif len(lModeK) > 0:\n",
    "    print('\\nSingle-Mode')\n",
    "    print('===========')\n",
    "else:\n",
    "    print('\\nThere is no mode')\n",
    "\n",
    "for idx, item in enumerate(lModeK):\n",
    "    print(\"Column 'price': mode \\t= ${:10,.2f}, freq: {}\".format(lModeK[idx],modeV))\n",
    "\n",
    "    \n",
    "print()\n",
    "# box plot\n",
    "print(npData[3])"
   ]
  },
  {
   "cell_type": "code",
   "execution_count": 362,
   "metadata": {},
   "outputs": [
    {
     "data": {
      "image/png": "[encoded data removed]",
      "text/plain": [
       "<Figure size 720x576 with 1 Axes>"
      ]
     },
     "metadata": {},
     "output_type": "display_data"
    }
   ],
   "source": [
    "## show box plot of Ang Mo Kio district, all flat types\n",
    "##### dtype=[('quarter',np.unicode,16),('town',np.unicode,16),\n",
    "#####                             ('flatType',np.unicode,16),('price',np.float32)], \n",
    "#####  npDataFlatTypes = {'1-room': 1, '2-room': 2, '3-room': 3, '4-room': 4, '5-room': 5, 'Executive': 6}\n",
    "#print(npAngMoKioRm3[0][-1])# print row/col\n",
    "#print(npAngMoKioRm3['price'][0]) # print col(field) / row\n",
    "#print(npAngMoKioRm3) # print all\n",
    "\n",
    "npAngMoKio = npData[npData['town'] == 'Ang Mo Kio']\n",
    "npAngMoKioRm1 = npAngMoKio[npAngMoKio['flatType']=='1']\n",
    "npAngMoKioRm2 = npAngMoKio[npAngMoKio['flatType']=='2']\n",
    "npAngMoKioRm3 = npAngMoKio[npAngMoKio['flatType']=='3']\n",
    "npAngMoKioRm4 = npAngMoKio[npAngMoKio['flatType']=='4']\n",
    "npAngMoKioRm5 = npAngMoKio[npAngMoKio['flatType']=='5']\n",
    "npAngMoKioRm6 = npAngMoKio[npAngMoKio['flatType']=='6']\n",
    "\n",
    "npAngMoKioRm1_Px = npAngMoKioRm1['price']\n",
    "npAngMoKioRm2_Px = npAngMoKioRm2['price']\n",
    "npAngMoKioRm3_Px = npAngMoKioRm3['price']\n",
    "npAngMoKioRm4_Px = npAngMoKioRm4['price']\n",
    "npAngMoKioRm5_Px = npAngMoKioRm5['price']\n",
    "npAngMoKioRm6_Px = npAngMoKioRm6['price']\n",
    "\n",
    "npAngMoKioRmAll_Px = npAngMoKioRm1_Px.reshape(len(npAngMoKioRm1_Px),1)\n",
    "npAngMoKioRmAll_Px = np.append(npAngMoKioRmAll_Px,npAngMoKioRm2_Px.reshape(len(npAngMoKioRm2_Px),1),axis=1 )\n",
    "npAngMoKioRmAll_Px = np.append(npAngMoKioRmAll_Px,npAngMoKioRm3_Px.reshape(len(npAngMoKioRm3_Px),1),axis=1 )\n",
    "npAngMoKioRmAll_Px = np.append(npAngMoKioRmAll_Px,npAngMoKioRm4_Px.reshape(len(npAngMoKioRm4_Px),1),axis=1 )\n",
    "npAngMoKioRmAll_Px = np.append(npAngMoKioRmAll_Px,npAngMoKioRm5_Px.reshape(len(npAngMoKioRm5_Px),1),axis=1 )\n",
    "\n",
    "# Data for Box Plot - All room prices for Ang Mo Kio for All Flat Types from 2007 Q2 to 2018 Q3\n",
    "# and Labels for X-Axis\n",
    "#print(npAngMoKioRmAll_Px.shape)\n",
    "#print(npAngMoKioRmAll_Px)\n",
    "#print(type((npAngMoKioRmAll_Px)))\n",
    "\n",
    "npAngMoKioRmAll_Px = np.append(npAngMoKioRmAll_Px,npAngMoKioRm6_Px.reshape(len(npAngMoKioRm6_Px),1),axis=1 )\n",
    "labels = np.array(['1 room','2 room','3 room','4 room','5 room','Executive'])\n",
    "\n",
    "# figure related code\n",
    "fig = plt.figure(figsize=(10,8))\n",
    "fig.suptitle('Ang Mo Kio - Box Plots of Px of All Flat types\\nfrom 2007 Q2 to 2018 Q3 in SGD', fontsize=10, fontweight='bold')\n",
    "\n",
    "bplot = plt.boxplot(npAngMoKioRmAll_Px,labels=labels, patch_artist=True, vert=True)\n",
    "\n",
    "\n",
    "\n",
    "for line in bplot['medians']:\n",
    "    #print(line)\n",
    "    # get position data for median line\n",
    "    x, y = line.get_xydata()[1] # top of median line\n",
    "    # overlay median value\n",
    "    plt.text(x, y, 'Median: ${:,.0f}'.format(y),\n",
    "             horizontalalignment='right',fontsize=10,color='black') # draw above, centered, Median:{:.1f}\n",
    "\n",
    "fliers = []\n",
    "for line in bplot['fliers']:\n",
    "    ndarray = line.get_xydata()\n",
    "    #print(ndarray)\n",
    "    if (len(ndarray)>0):\n",
    "       max_flier = ndarray[:,0].max()\n",
    "       max_flier_index = ndarray[:,0].argmax()\n",
    "       x = ndarray[max_flier_index,0] #where to plot the flier text in x position\n",
    "       y = ndarray[max_flier_index,1] #where to plot the flier text in y position\n",
    "       #print(\"Flier: \" + str(y) + \",\" + str(max_flier))      \n",
    "       plt.text(x,y,'{:,.0f}'.format(int(y)),horizontalalignment='right',fontsize=9,color='red') \n",
    "\n",
    "plt.show()"
   ]
  },
  {
   "cell_type": "markdown",
   "metadata": {},
   "source": [
    "### 3b. Visualisation - Bar Chart"
   ]
  },
  {
   "cell_type": "code",
   "execution_count": 251,
   "metadata": {},
   "outputs": [
    {
     "data": {
      "image/png": "[encoded data removed]",
      "text/plain": [
       "<Figure size 1440x360 with 1 Axes>"
      ]
     },
     "metadata": {},
     "output_type": "display_data"
    }
   ],
   "source": [
    "# Data\n",
    "#npAngMoKioRmAll_Px = np.append(npAngMoKioRmAll_Px,npAngMoKioRm2_Px.reshape(len(npAngMoKioRm2_Px),1),axis=1 )\n",
    "\n",
    "npData_Rm5 = npData[npData['flatType']== '5']\n",
    "#print(npData_Rm5)\n",
    "#print(npData_Rm5['quarter'])\n",
    "#print(npData_Rm5['town'])\n",
    "#print(npData_Rm5['flatType'])\n",
    "#print(npData_Rm5['price'])\n",
    "npData_Rm5_201803 = npData_Rm5[npData_Rm5['quarter'] == '201803']\n",
    "\n",
    "# figure related code\n",
    "fig = plt.figure(figsize=(20,5))\n",
    "fig.suptitle('2018 Q3', fontsize=14, fontweight='bold')\n",
    "\n",
    "# plot related code\n",
    "width = 0.8\n",
    "barPlot = plt.bar(npData_Rm5_201803['town'], npData_Rm5_201803['price']/1000, width, color='#d62728')\n",
    "\n",
    "plt.xlabel('Districts',fontsize = 12)\n",
    "plt.ylabel(\"flat price in thousands\",fontsize = 11)\n",
    "plt.title('Prices of 5 room flats by all areas (SGD)', fontsize = 11)\n",
    "plt.xticks(rotation=30)\n",
    "#plt.xticks(teams, ('Team 1', 'Team 2', 'Team 3'))\n",
    "#plt.yticks(np.arange(0, 50, 10))\n",
    "\n",
    "\n",
    "plt.show()\n",
    "\n"
   ]
  },
  {
   "cell_type": "markdown",
   "metadata": {},
   "source": [
    "### 3c. Visualisation - Line Chart"
   ]
  },
  {
   "cell_type": "code",
   "execution_count": null,
   "metadata": {},
   "outputs": [],
   "source": [
    "# plt.plot([1, 2, 3, 4],[1, 4, 9, 16]) # OR\n",
    "# plt.plot([1,2,3,4],[1,4,9,16], 'ro') # 'b-' which is a solid blue line\n",
    "# for more marker styles\n",
    "#    https://matplotlib.org/api/markers_api.html\n",
    "# plt.axis([0, 100, 0, 20]) # [xmin, xmax, ymin, ymax]\n",
    "# plt.ylabel('some numbers')\n",
    "# plt.show()\n",
    "\n"
   ]
  },
  {
   "cell_type": "code",
   "execution_count": 316,
   "metadata": {
    "scrolled": true
   },
   "outputs": [
    {
     "data": {
      "image/png": "[encoded data removed]",
      "text/plain": [
       "<Figure size 1008x288 with 1 Axes>"
      ]
     },
     "metadata": {},
     "output_type": "display_data"
    }
   ],
   "source": [
    "##### dtype=[('quarter',np.unicode,16),('town',np.unicode,16),\n",
    "#####                             ('flatType',np.unicode,16),('price',np.float32)], \n",
    "#####  npDataFlatTypes = {'1-room': 1, '2-room': 2, '3-room': 3, '4-room': 4, '5-room': 5, 'Executive': 6}\n",
    "\n",
    "\n",
    "# --- DATA\n",
    "# on visual inspection of csv dataset, Ang Mo Kio does not seem to have 1-room, 2-room nor Executive flat types,\n",
    "# hence, we do a line plot for 3, 4 and 5 room only\n",
    "npAngMoKio = npData[npData['town']=='Ang Mo Kio']\n",
    "npAngMoKioRm3 = npAngMoKio[npAngMoKio['flatType']=='3']\n",
    "npAngMoKioRm4 = npAngMoKio[npAngMoKio['flatType']=='4']\n",
    "npAngMoKioRm5 = npAngMoKio[npAngMoKio['flatType']=='5']\n",
    "\n",
    "# we make the assumption that in the quarters where px == 0, it means that there was no transaction,\n",
    "# and NOT because the transacted price is zero, hence we transform the price to the last transacted price\n",
    "# i.e. price holds steady until a new change (whether +ve or -ve occurs)\n",
    "# otherwise the line plot will have very steep drastic drops and ascents that is not realistic, i.e.\n",
    "# the price did not actually drop to 0\n",
    "\n",
    "for idx, item in enumerate(npAngMoKioRm3):\n",
    "    if item['price'] == 0:\n",
    "        item['price'] = npAngMoKioRm3['price'][idx-1]        \n",
    "\n",
    "for idx, item in enumerate(npAngMoKioRm4):\n",
    "    if item['price'] == 0:\n",
    "        item['price'] = npAngMoKioRm4['price'][idx-1]        \n",
    "\n",
    "for idx, item in enumerate(npAngMoKioRm5):\n",
    "    if item['price'] == 0:\n",
    "        item['price'] = npAngMoKioRm5['price'][idx-1]        \n",
    "\n",
    "# --- Figure related code\n",
    "fig = plt.figure(figsize=(14,4))\n",
    "fig.suptitle('Ang Mo Kio 3, 4 and 5 rooms prices', fontsize=14, fontweight='bold')\n",
    "\n",
    "        \n",
    "plt.plot(npAngMoKioRm3['quarter'],npAngMoKioRm3['price'],'r-',label=\"3-room\")\n",
    "plt.plot(npAngMoKioRm4['quarter'],npAngMoKioRm4['price'],'g-',label=\"4-room\")\n",
    "plt.plot(npAngMoKioRm5['quarter'],npAngMoKioRm5['price'],'b-',label=\"5-room\")         \n",
    "\n",
    "# --- Plot related code\n",
    "plt.xlabel('Quarters',fontsize = 6)\n",
    "plt.xticks(rotation=45)\n",
    "plt.ylabel(\"flat price in thousands\",fontsize = 10)\n",
    "plt.title('from 2007 Q2 to 2018 Q3 (SGD)', fontsize = 10)\n",
    "\n",
    "legend = plt.legend()\n",
    "\n",
    "# --- show\n",
    "plt.show()\n"
   ]
  },
  {
   "cell_type": "markdown",
   "metadata": {},
   "source": [
    "### 3d. Visualisation - Histogram"
   ]
  },
  {
   "cell_type": "code",
   "execution_count": 351,
   "metadata": {},
   "outputs": [
    {
     "name": "stdout",
     "output_type": "stream",
     "text": [
      "Histogram is not used in this dataset\n"
     ]
    }
   ],
   "source": [
    "# Histogram\n",
    "\n",
    "print('Histogram is not used in this dataset')"
   ]
  },
  {
   "cell_type": "markdown",
   "metadata": {},
   "source": [
    "### 3e. Visualisation - Scatter Plot"
   ]
  },
  {
   "cell_type": "code",
   "execution_count": 358,
   "metadata": {},
   "outputs": [
    {
     "name": "stdout",
     "output_type": "stream",
     "text": [
      "Scatter is not used in this dataset\n"
     ]
    }
   ],
   "source": [
    "# Scatter Plot\n",
    "\n",
    "print('Scatter is not used in this dataset')\n"
   ]
  }
 ],
 "metadata": {
  "kernelspec": {
   "display_name": "Python 3",
   "language": "python",
   "name": "python3"
  },
  "language_info": {
   "codemirror_mode": {
    "name": "ipython",
    "version": 3
   },
   "file_extension": ".py",
   "mimetype": "text/x-python",
   "name": "python",
   "nbconvert_exporter": "python",
   "pygments_lexer": "ipython3",
   "version": "3.7.3"
  }
 },
 "nbformat": 4,
 "nbformat_minor": 2
}
